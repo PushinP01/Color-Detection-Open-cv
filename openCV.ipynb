{
 "cells": [
  {
   "cell_type": "code",
   "execution_count": 13,
   "id": "ad6ad6c6",
   "metadata": {},
   "outputs": [],
   "source": [
    "import cv2\n",
    "import numpy as np\n",
    "cap = cv2.VideoCapture(0)\n",
    "while True:\n",
    "    ret, frame = cap.read()\n",
    "    hsv_frame = cv2.cvtColor(frame, cv2.COLOR_BGR2HSV)\n",
    "    \n",
    "    # Red color\n",
    "    low_red = np.array([161, 155, 84])\n",
    "    high_red = np.array([179, 255, 255])\n",
    "    red_mask = cv2.inRange(hsv_frame, low_red, high_red)\n",
    "    red = cv2.bitwise_and(frame, frame, mask=red_mask)\n",
    "    \n",
    "    low_blue = np.array([94, 80, 2])\n",
    "    high_blue = np.array([126, 255, 255])\n",
    "    blue_mask = cv2.inRange(hsv_frame, low_blue, high_blue)\n",
    "    blue = cv2.bitwise_and(frame, frame, mask=blue_mask)\n",
    "    # Green color\n",
    "    low_green = np.array([25, 52, 72])\n",
    "    high_green = np.array([102, 255, 255])\n",
    "    green_mask = cv2.inRange(hsv_frame, low_green, high_green)\n",
    "    green = cv2.bitwise_and(frame, frame, mask=green_mask)\n",
    "    # Every color except white\n",
    "    low = np.array([0, 42, 0])\n",
    "    high = np.array([179, 255, 255])\n",
    "    mask = cv2.inRange(hsv_frame, low, high)\n",
    "    result = cv2.bitwise_and(frame, frame, mask=mask)\n",
    "    \n",
    "    cv2.imshow(\"Frame\", frame)\n",
    "    cv2.imshow(\"Red\", red)\n",
    "    cv2.imshow(\"Blue\", blue)\n",
    "    cv2.imshow(\"Green\", green)\n",
    "    cv2.imshow(\"Result\", result)\n",
    "    key = cv2.waitKey(1)\n",
    "    if key == ord('q'):\n",
    "        break\n",
    "    "
   ]
  },
  {
   "cell_type": "code",
   "execution_count": null,
   "id": "56b3cbc0",
   "metadata": {},
   "outputs": [],
   "source": []
  }
 ],
 "metadata": {
  "kernelspec": {
   "display_name": "Python 3.9 (tensorflow)",
   "language": "python",
   "name": "tensorflow"
  },
  "language_info": {
   "codemirror_mode": {
    "name": "ipython",
    "version": 3
   },
   "file_extension": ".py",
   "mimetype": "text/x-python",
   "name": "python",
   "nbconvert_exporter": "python",
   "pygments_lexer": "ipython3",
   "version": "3.9.9"
  }
 },
 "nbformat": 4,
 "nbformat_minor": 5
}
